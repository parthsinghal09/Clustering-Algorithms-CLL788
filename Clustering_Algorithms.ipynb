{
 "cells": [
  {
   "cell_type": "code",
   "execution_count": 1,
   "metadata": {},
   "outputs": [],
   "source": [
    "import numpy as np\n",
    "import pandas as pd\n",
    "import matplotlib.pyplot as plt\n",
    "import math\n",
    "from scipy.stats import multivariate_normal"
   ]
  },
  {
   "cell_type": "code",
   "execution_count": 2,
   "metadata": {},
   "outputs": [],
   "source": [
    "path1 = \"Data.xlsx\"\n",
    "path2 = \"Data_GMM.xlsx\""
   ]
  },
  {
   "cell_type": "markdown",
   "metadata": {},
   "source": [
    "# Data 1 Visualization"
   ]
  },
  {
   "cell_type": "code",
   "execution_count": 3,
   "metadata": {},
   "outputs": [],
   "source": [
    "#Data \n",
    "df1 = pd.read_excel(path1)\n",
    "df1 = df1.sample(frac = 1)"
   ]
  },
  {
   "cell_type": "code",
   "execution_count": 4,
   "metadata": {
    "scrolled": true
   },
   "outputs": [
    {
     "data": {
      "text/html": [
       "<div>\n",
       "<style scoped>\n",
       "    .dataframe tbody tr th:only-of-type {\n",
       "        vertical-align: middle;\n",
       "    }\n",
       "\n",
       "    .dataframe tbody tr th {\n",
       "        vertical-align: top;\n",
       "    }\n",
       "\n",
       "    .dataframe thead th {\n",
       "        text-align: right;\n",
       "    }\n",
       "</style>\n",
       "<table border=\"1\" class=\"dataframe\">\n",
       "  <thead>\n",
       "    <tr style=\"text-align: right;\">\n",
       "      <th></th>\n",
       "      <th>Result 1</th>\n",
       "      <th>Result 2</th>\n",
       "    </tr>\n",
       "  </thead>\n",
       "  <tbody>\n",
       "    <tr>\n",
       "      <th>136</th>\n",
       "      <td>5.6</td>\n",
       "      <td>2.4</td>\n",
       "    </tr>\n",
       "    <tr>\n",
       "      <th>87</th>\n",
       "      <td>4.4</td>\n",
       "      <td>1.3</td>\n",
       "    </tr>\n",
       "    <tr>\n",
       "      <th>40</th>\n",
       "      <td>1.3</td>\n",
       "      <td>0.3</td>\n",
       "    </tr>\n",
       "    <tr>\n",
       "      <th>26</th>\n",
       "      <td>1.6</td>\n",
       "      <td>0.4</td>\n",
       "    </tr>\n",
       "    <tr>\n",
       "      <th>143</th>\n",
       "      <td>5.9</td>\n",
       "      <td>2.3</td>\n",
       "    </tr>\n",
       "    <tr>\n",
       "      <th>...</th>\n",
       "      <td>...</td>\n",
       "      <td>...</td>\n",
       "    </tr>\n",
       "    <tr>\n",
       "      <th>130</th>\n",
       "      <td>6.1</td>\n",
       "      <td>1.9</td>\n",
       "    </tr>\n",
       "    <tr>\n",
       "      <th>43</th>\n",
       "      <td>1.6</td>\n",
       "      <td>0.6</td>\n",
       "    </tr>\n",
       "    <tr>\n",
       "      <th>28</th>\n",
       "      <td>1.4</td>\n",
       "      <td>0.2</td>\n",
       "    </tr>\n",
       "    <tr>\n",
       "      <th>86</th>\n",
       "      <td>4.7</td>\n",
       "      <td>1.5</td>\n",
       "    </tr>\n",
       "    <tr>\n",
       "      <th>94</th>\n",
       "      <td>4.2</td>\n",
       "      <td>1.3</td>\n",
       "    </tr>\n",
       "  </tbody>\n",
       "</table>\n",
       "<p>150 rows × 2 columns</p>\n",
       "</div>"
      ],
      "text/plain": [
       "     Result 1  Result 2\n",
       "136       5.6       2.4\n",
       "87        4.4       1.3\n",
       "40        1.3       0.3\n",
       "26        1.6       0.4\n",
       "143       5.9       2.3\n",
       "..        ...       ...\n",
       "130       6.1       1.9\n",
       "43        1.6       0.6\n",
       "28        1.4       0.2\n",
       "86        4.7       1.5\n",
       "94        4.2       1.3\n",
       "\n",
       "[150 rows x 2 columns]"
      ]
     },
     "execution_count": 4,
     "metadata": {},
     "output_type": "execute_result"
    }
   ],
   "source": [
    "df1"
   ]
  },
  {
   "cell_type": "code",
   "execution_count": 5,
   "metadata": {},
   "outputs": [
    {
     "name": "stdout",
     "output_type": "stream",
     "text": [
      "6.9   1.0\n"
     ]
    }
   ],
   "source": [
    "#Maximum and Minimum values of Result 1 in Data1 \n",
    "print(df1['Result 1'].max(), \" \", df1['Result 1'].min())"
   ]
  },
  {
   "cell_type": "code",
   "execution_count": 6,
   "metadata": {},
   "outputs": [
    {
     "name": "stdout",
     "output_type": "stream",
     "text": [
      "2.5   0.1\n"
     ]
    }
   ],
   "source": [
    "#Maximum and Minimum values of Result 2 in Data1 \n",
    "print(df1['Result 2'].max(), \" \", df1['Result 2'].min())"
   ]
  },
  {
   "cell_type": "code",
   "execution_count": 7,
   "metadata": {},
   "outputs": [
    {
     "data": {
      "text/plain": [
       "(150,)"
      ]
     },
     "execution_count": 7,
     "metadata": {},
     "output_type": "execute_result"
    }
   ],
   "source": [
    "#Feature matrix for Data1\n",
    "X1 = df1['Result 1'].to_numpy()\n",
    "X1.shape"
   ]
  },
  {
   "cell_type": "code",
   "execution_count": 8,
   "metadata": {},
   "outputs": [
    {
     "data": {
      "text/plain": [
       "(150,)"
      ]
     },
     "execution_count": 8,
     "metadata": {},
     "output_type": "execute_result"
    }
   ],
   "source": [
    "#Feature matrix for Data1\n",
    "X2 = df1['Result 2'].to_numpy()\n",
    "X2.shape"
   ]
  },
  {
   "cell_type": "code",
   "execution_count": 9,
   "metadata": {},
   "outputs": [
    {
     "data": {
      "image/png": "[encoded data removed]",
      "text/plain": [
       "<Figure size 432x432 with 1 Axes>"
      ]
     },
     "metadata": {
      "needs_background": "light"
     },
     "output_type": "display_data"
    }
   ],
   "source": [
    "#Scatter Plot for Data1\n",
    "fig = plt.figure(figsize = (6, 6))\n",
    "plt.scatter(X1, X2, s = 10, c = \"blue\")  \n",
    "plt.xlim(0.0, 7.5)\n",
    "plt.ylim(0.0, 3.0)\n",
    "plt.ylabel(r'$Result 2$')\n",
    "plt.xlabel(r'$Result 1$')\n",
    "plt.title(\"Data1\") \n",
    "#plt.savefig(\"C:\\Me\\sem6\\cll788\\A4\\Data1_scatter.jpeg\")\n",
    "plt.show()"
   ]
  },
  {
   "cell_type": "markdown",
   "metadata": {},
   "source": [
    "# K Means"
   ]
  },
  {
   "cell_type": "code",
   "execution_count": 10,
   "metadata": {},
   "outputs": [],
   "source": [
    "#Number if clusters\n",
    "k = 2"
   ]
  },
  {
   "cell_type": "code",
   "execution_count": 11,
   "metadata": {},
   "outputs": [],
   "source": [
    "#Cluster array\n",
    "groups = {}\n",
    "for i in range(k):\n",
    "    groups[i] = []"
   ]
  },
  {
   "cell_type": "code",
   "execution_count": 12,
   "metadata": {},
   "outputs": [
    {
     "data": {
      "text/plain": [
       "[[5.6, 2.4], [4.4, 1.3]]"
      ]
     },
     "execution_count": 12,
     "metadata": {},
     "output_type": "execute_result"
    }
   ],
   "source": [
    "#Random Centroid\n",
    "centroid = []\n",
    "for i in range(k):\n",
    "    centroid.append([X1[i], X2[i]])\n",
    "centroid"
   ]
  },
  {
   "cell_type": "code",
   "execution_count": 13,
   "metadata": {},
   "outputs": [
    {
     "data": {
      "text/plain": [
       "150"
      ]
     },
     "execution_count": 13,
     "metadata": {},
     "output_type": "execute_result"
    }
   ],
   "source": [
    "#Number of data points\n",
    "m = X1.shape[0]\n",
    "m"
   ]
  },
  {
   "cell_type": "code",
   "execution_count": 14,
   "metadata": {},
   "outputs": [],
   "source": [
    "#Tolerance and maximum iteration for the algorithm\n",
    "tol = 0.000001\n",
    "max_iter = 1000"
   ]
  },
  {
   "cell_type": "code",
   "execution_count": 15,
   "metadata": {},
   "outputs": [],
   "source": [
    "#k-means implementation\n",
    "for j in range(max_iter):\n",
    "    \n",
    "    if(j!=0 and (cen_difx1<=tol and cen_difx2<=tol and cen_dify1<=tol and cen_dify2<=tol)):\n",
    "        centroid[0][0] = c1x\n",
    "        centroid[0][1] = c1y\n",
    "        centroid[1][0] = c2x\n",
    "        centroid[1][1] = c2y\n",
    "        groups[0].clear()\n",
    "        groups[1].clear()\n",
    "         \n",
    "        for i in range(m):\n",
    "            d1 = math.sqrt(((X1[i] - centroid[0][0])**2 + (X2[i] - centroid[0][1])**2))\n",
    "            d2 = math.sqrt(((X1[i] - centroid[1][0])**2 + (X2[i] - centroid[1][1])**2))\n",
    "            if d1<=d2:\n",
    "                groups[0].append([X1[i], X2[i]])\n",
    "            elif d1>d2:\n",
    "                groups[1].append([X1[i], X2[i]])\n",
    "                \n",
    "        break\n",
    "        \n",
    "    elif j == 0:\n",
    "        \n",
    "        for i in range(m):\n",
    "            d1 = math.sqrt(((X1[i] - centroid[0][0])**2 + (X2[i] - centroid[0][1])**2))\n",
    "            d2 = math.sqrt(((X1[i] - centroid[1][0])**2 + (X2[i] - centroid[1][1])**2))\n",
    "            if d1<=d2:\n",
    "                groups[0].append([X1[i], X2[i]])\n",
    "            elif d1>d2:\n",
    "                groups[1].append([X1[i], X2[i]]) \n",
    "        \n",
    "        c1x = 0\n",
    "        c1y = 0\n",
    "        c2x = 0\n",
    "        c2y = 0\n",
    "\n",
    "        for i in range(len(groups[0])):\n",
    "            c1x = c1x + groups[0][i][0]\n",
    "            c1y = c1y + groups[0][i][1]\n",
    "        c1x = c1x/len(groups[0])\n",
    "        c1y = c2x/len(groups[0])\n",
    "\n",
    "        for i in range(len(groups[1])):\n",
    "            c2x = c2x + groups[1][i][0]\n",
    "            c2y = c2y + groups[1][i][1]\n",
    "        c2x = c2x/len(groups[1])\n",
    "        c2y = c2y/len(groups[1])\n",
    "\n",
    "        cen_difx1 = abs(c1x - centroid[0][0])\n",
    "        cen_difx2 = abs(c2x - centroid[1][0])\n",
    "        cen_dify1 = abs(c1y - centroid[0][1])\n",
    "        cen_dify2 = abs(c2y - centroid[1][1])\n",
    "    \n",
    "    else:\n",
    "        \n",
    "        centroid[0][0] = c1x\n",
    "        centroid[0][1] = c1y\n",
    "        centroid[1][0] = c2x\n",
    "        centroid[1][1] = c2y\n",
    "        groups[0].clear()\n",
    "        groups[1].clear()\n",
    "         \n",
    "        for i in range(m):\n",
    "            d1 = math.sqrt(((X1[i] - centroid[0][0])**2 + (X2[i] - centroid[0][1])**2))\n",
    "            d2 = math.sqrt(((X1[i] - centroid[1][0])**2 + (X2[i] - centroid[1][1])**2))\n",
    "            if d1<=d2:\n",
    "                groups[0].append([X1[i], X2[i]])\n",
    "            elif d1>d2:\n",
    "                groups[1].append([X1[i], X2[i]])\n",
    "        \n",
    "        c1x = 0\n",
    "        c1y = 0\n",
    "        c2x = 0\n",
    "        c2y = 0\n",
    "\n",
    "        for i in range(len(groups[0])):\n",
    "            c1x = c1x + groups[0][i][0]\n",
    "            c1y = c1y + groups[0][i][1]\n",
    "        c1x = c1x/len(groups[0])\n",
    "        c1y = c2x/len(groups[0])\n",
    "\n",
    "        for i in range(len(groups[1])):\n",
    "            c2x = c2x + groups[1][i][0]\n",
    "            c2y = c2y + groups[1][i][1]\n",
    "        c2x = c2x/len(groups[1])\n",
    "        c2y = c2y/len(groups[1])\n",
    "\n",
    "        cen_difx1 = abs(c1x - centroid[0][0])\n",
    "        cen_difx2 = abs(c2x - centroid[1][0])\n",
    "        cen_dify1 = abs(c1y - centroid[0][1])\n",
    "        cen_dify2 = abs(c2y - centroid[1][1])\n"
   ]
  },
  {
   "cell_type": "code",
   "execution_count": 16,
   "metadata": {},
   "outputs": [
    {
     "data": {
      "text/plain": [
       "97"
      ]
     },
     "execution_count": 16,
     "metadata": {},
     "output_type": "execute_result"
    }
   ],
   "source": [
    "#number of data points in the 1st group\n",
    "len(groups[0])"
   ]
  },
  {
   "cell_type": "code",
   "execution_count": 17,
   "metadata": {},
   "outputs": [
    {
     "data": {
      "text/plain": [
       "53"
      ]
     },
     "execution_count": 17,
     "metadata": {},
     "output_type": "execute_result"
    }
   ],
   "source": [
    "#number of data points in the 2nd group\n",
    "len(groups[1])"
   ]
  },
  {
   "cell_type": "code",
   "execution_count": 18,
   "metadata": {},
   "outputs": [],
   "source": [
    "#arrays to store data points of different groups\n",
    "X1x = []\n",
    "X1y = []\n",
    "X2x = []\n",
    "X2y = []\n",
    "\n",
    "for i in range(len(groups[0])):\n",
    "    X1x.append(groups[0][i][0])\n",
    "    X1y.append(groups[0][i][1])\n",
    "\n",
    "for i in range(len(groups[1])):\n",
    "    X2x.append(groups[1][i][0])\n",
    "    X2y.append(groups[1][i][1])"
   ]
  },
  {
   "cell_type": "code",
   "execution_count": 19,
   "metadata": {},
   "outputs": [
    {
     "data": {
      "image/png": "[encoded data removed]",
      "text/plain": [
       "<Figure size 432x432 with 1 Axes>"
      ]
     },
     "metadata": {
      "needs_background": "light"
     },
     "output_type": "display_data"
    }
   ],
   "source": [
    "#scatter plot showing the 2 clusters\n",
    "fig = plt.figure(figsize = (6, 6))\n",
    "plt.scatter(X1x, X1y, s = 10, c = \"blue\")  \n",
    "plt.scatter(X2x, X2y, s = 10, c = \"red\") \n",
    "plt.xlim(0.0, 7.5)\n",
    "plt.ylim(0.0, 3.0)\n",
    "plt.ylabel(r'$Result 2$')\n",
    "plt.xlabel(r'$Result 1$')\n",
    "plt.title(\"Data1\") \n",
    "#plt.savefig(\"C:\\Me\\sem6\\cll788\\A4\\Data_kmeans.jpeg\")\n",
    "plt.show()"
   ]
  },
  {
   "cell_type": "markdown",
   "metadata": {},
   "source": [
    "# Data_GMM Visualization"
   ]
  },
  {
   "cell_type": "code",
   "execution_count": 20,
   "metadata": {},
   "outputs": [],
   "source": [
    "df2 = pd.read_excel(path2)\n",
    "df2 = df2.sample(frac = 1)"
   ]
  },
  {
   "cell_type": "code",
   "execution_count": 21,
   "metadata": {
    "scrolled": true
   },
   "outputs": [
    {
     "data": {
      "text/html": [
       "<div>\n",
       "<style scoped>\n",
       "    .dataframe tbody tr th:only-of-type {\n",
       "        vertical-align: middle;\n",
       "    }\n",
       "\n",
       "    .dataframe tbody tr th {\n",
       "        vertical-align: top;\n",
       "    }\n",
       "\n",
       "    .dataframe thead th {\n",
       "        text-align: right;\n",
       "    }\n",
       "</style>\n",
       "<table border=\"1\" class=\"dataframe\">\n",
       "  <thead>\n",
       "    <tr style=\"text-align: right;\">\n",
       "      <th></th>\n",
       "      <th>Result 1</th>\n",
       "      <th>Result 2</th>\n",
       "    </tr>\n",
       "  </thead>\n",
       "  <tbody>\n",
       "    <tr>\n",
       "      <th>27</th>\n",
       "      <td>0.330887</td>\n",
       "      <td>0.384493</td>\n",
       "    </tr>\n",
       "    <tr>\n",
       "      <th>53</th>\n",
       "      <td>-0.323334</td>\n",
       "      <td>0.413874</td>\n",
       "    </tr>\n",
       "    <tr>\n",
       "      <th>196</th>\n",
       "      <td>-6.319903</td>\n",
       "      <td>-5.180163</td>\n",
       "    </tr>\n",
       "    <tr>\n",
       "      <th>51</th>\n",
       "      <td>1.836837</td>\n",
       "      <td>1.730376</td>\n",
       "    </tr>\n",
       "    <tr>\n",
       "      <th>96</th>\n",
       "      <td>2.408907</td>\n",
       "      <td>1.208716</td>\n",
       "    </tr>\n",
       "    <tr>\n",
       "      <th>...</th>\n",
       "      <td>...</td>\n",
       "      <td>...</td>\n",
       "    </tr>\n",
       "    <tr>\n",
       "      <th>107</th>\n",
       "      <td>-6.076458</td>\n",
       "      <td>-5.300536</td>\n",
       "    </tr>\n",
       "    <tr>\n",
       "      <th>151</th>\n",
       "      <td>-4.615293</td>\n",
       "      <td>-4.882729</td>\n",
       "    </tr>\n",
       "    <tr>\n",
       "      <th>62</th>\n",
       "      <td>2.098929</td>\n",
       "      <td>0.101623</td>\n",
       "    </tr>\n",
       "    <tr>\n",
       "      <th>190</th>\n",
       "      <td>-4.435704</td>\n",
       "      <td>-4.605324</td>\n",
       "    </tr>\n",
       "    <tr>\n",
       "      <th>189</th>\n",
       "      <td>-5.296165</td>\n",
       "      <td>-4.098509</td>\n",
       "    </tr>\n",
       "  </tbody>\n",
       "</table>\n",
       "<p>200 rows × 2 columns</p>\n",
       "</div>"
      ],
      "text/plain": [
       "     Result 1  Result 2\n",
       "27   0.330887  0.384493\n",
       "53  -0.323334  0.413874\n",
       "196 -6.319903 -5.180163\n",
       "51   1.836837  1.730376\n",
       "96   2.408907  1.208716\n",
       "..        ...       ...\n",
       "107 -6.076458 -5.300536\n",
       "151 -4.615293 -4.882729\n",
       "62   2.098929  0.101623\n",
       "190 -4.435704 -4.605324\n",
       "189 -5.296165 -4.098509\n",
       "\n",
       "[200 rows x 2 columns]"
      ]
     },
     "execution_count": 21,
     "metadata": {},
     "output_type": "execute_result"
    }
   ],
   "source": [
    "df2"
   ]
  },
  {
   "cell_type": "code",
   "execution_count": 22,
   "metadata": {},
   "outputs": [
    {
     "data": {
      "text/html": [
       "<div>\n",
       "<style scoped>\n",
       "    .dataframe tbody tr th:only-of-type {\n",
       "        vertical-align: middle;\n",
       "    }\n",
       "\n",
       "    .dataframe tbody tr th {\n",
       "        vertical-align: top;\n",
       "    }\n",
       "\n",
       "    .dataframe thead th {\n",
       "        text-align: right;\n",
       "    }\n",
       "</style>\n",
       "<table border=\"1\" class=\"dataframe\">\n",
       "  <thead>\n",
       "    <tr style=\"text-align: right;\">\n",
       "      <th></th>\n",
       "      <th>Result 1</th>\n",
       "      <th>Result 2</th>\n",
       "    </tr>\n",
       "  </thead>\n",
       "  <tbody>\n",
       "    <tr>\n",
       "      <th>count</th>\n",
       "      <td>200.000000</td>\n",
       "      <td>200.000000</td>\n",
       "    </tr>\n",
       "    <tr>\n",
       "      <th>mean</th>\n",
       "      <td>-1.810469</td>\n",
       "      <td>-1.931323</td>\n",
       "    </tr>\n",
       "    <tr>\n",
       "      <th>std</th>\n",
       "      <td>3.205968</td>\n",
       "      <td>3.094894</td>\n",
       "    </tr>\n",
       "    <tr>\n",
       "      <th>min</th>\n",
       "      <td>-7.275102</td>\n",
       "      <td>-7.347239</td>\n",
       "    </tr>\n",
       "    <tr>\n",
       "      <th>25%</th>\n",
       "      <td>-4.799860</td>\n",
       "      <td>-4.949301</td>\n",
       "    </tr>\n",
       "    <tr>\n",
       "      <th>50%</th>\n",
       "      <td>-1.807678</td>\n",
       "      <td>-2.031475</td>\n",
       "    </tr>\n",
       "    <tr>\n",
       "      <th>75%</th>\n",
       "      <td>1.151394</td>\n",
       "      <td>1.041118</td>\n",
       "    </tr>\n",
       "    <tr>\n",
       "      <th>max</th>\n",
       "      <td>4.526678</td>\n",
       "      <td>3.365225</td>\n",
       "    </tr>\n",
       "  </tbody>\n",
       "</table>\n",
       "</div>"
      ],
      "text/plain": [
       "         Result 1    Result 2\n",
       "count  200.000000  200.000000\n",
       "mean    -1.810469   -1.931323\n",
       "std      3.205968    3.094894\n",
       "min     -7.275102   -7.347239\n",
       "25%     -4.799860   -4.949301\n",
       "50%     -1.807678   -2.031475\n",
       "75%      1.151394    1.041118\n",
       "max      4.526678    3.365225"
      ]
     },
     "execution_count": 22,
     "metadata": {},
     "output_type": "execute_result"
    }
   ],
   "source": [
    "df2.describe()"
   ]
  },
  {
   "cell_type": "code",
   "execution_count": 23,
   "metadata": {},
   "outputs": [
    {
     "name": "stdout",
     "output_type": "stream",
     "text": [
      "4.52667781833885   -7.2751015423474\n"
     ]
    }
   ],
   "source": [
    "#Maximum and Minimum values of Result 1 in Data_GMM\n",
    "print(df2['Result 1'].max(), \" \", df2['Result 1'].min())"
   ]
  },
  {
   "cell_type": "code",
   "execution_count": 24,
   "metadata": {},
   "outputs": [
    {
     "name": "stdout",
     "output_type": "stream",
     "text": [
      "3.36522474259891   -7.34723922894497\n"
     ]
    }
   ],
   "source": [
    "#Maximum and Minimum values of Result 2 in Data_GMM\n",
    "print(df2['Result 2'].max(), \" \", df2['Result 2'].min())"
   ]
  },
  {
   "cell_type": "code",
   "execution_count": 25,
   "metadata": {},
   "outputs": [
    {
     "data": {
      "text/plain": [
       "(200,)"
      ]
     },
     "execution_count": 25,
     "metadata": {},
     "output_type": "execute_result"
    }
   ],
   "source": [
    "#Feature matrix for Data_GMM\n",
    "X1_gmm = df2['Result 1'].to_numpy()\n",
    "X1_gmm.shape"
   ]
  },
  {
   "cell_type": "code",
   "execution_count": 26,
   "metadata": {},
   "outputs": [
    {
     "data": {
      "text/plain": [
       "(200,)"
      ]
     },
     "execution_count": 26,
     "metadata": {},
     "output_type": "execute_result"
    }
   ],
   "source": [
    "#Feature matrix for Data_GMM\n",
    "X2_gmm = df2['Result 2'].to_numpy()\n",
    "X2_gmm.shape"
   ]
  },
  {
   "cell_type": "code",
   "execution_count": 27,
   "metadata": {},
   "outputs": [
    {
     "data": {
      "image/png": "[encoded data removed]",
      "text/plain": [
       "<Figure size 432x432 with 1 Axes>"
      ]
     },
     "metadata": {
      "needs_background": "light"
     },
     "output_type": "display_data"
    }
   ],
   "source": [
    "#Scatter Plot for Data_GMM\n",
    "fig = plt.figure(figsize = (6, 6))\n",
    "plt.scatter(X1_gmm, X2_gmm, s = 10, c = \"blue\")  \n",
    "plt.xlim(-10.0, 7.5)\n",
    "plt.ylim(-10.0, 7.5)\n",
    "plt.ylabel(r'$Result 2$')\n",
    "plt.xlabel(r'$Result 1$')\n",
    "plt.title(\"Data_GMM\") \n",
    "#plt.savefig(\"C:\\Me\\sem6\\cll788\\A4\\Data_GMM_scatter.jpeg\")\n",
    "plt.show()"
   ]
  },
  {
   "cell_type": "markdown",
   "metadata": {},
   "source": [
    "# Gaussian Mixture Model"
   ]
  },
  {
   "cell_type": "code",
   "execution_count": 28,
   "metadata": {},
   "outputs": [],
   "source": [
    "#Number of Clusters for GMM\n",
    "k_gmm = 2 "
   ]
  },
  {
   "cell_type": "code",
   "execution_count": 29,
   "metadata": {},
   "outputs": [],
   "source": [
    "#random mean, covariance and pi matrices for GMM\n",
    "mean = []\n",
    "covariance = []\n",
    "pi = []\n",
    "mean.append([1.0, 1.0])\n",
    "mean.append([-5.0, -5.0])\n",
    "covariance.append([[1.0, 0.5], [0.5, 1.0]])\n",
    "covariance.append([[2.0, 0.3], [0.3, 2.0]])\n",
    "for i in range(k_gmm):\n",
    "    pi.append(0.5)\n",
    "\n",
    "mean = np.array(mean)\n",
    "covariance = np.array(covariance)\n",
    "pi = np.array(pi)"
   ]
  },
  {
   "cell_type": "code",
   "execution_count": 30,
   "metadata": {},
   "outputs": [
    {
     "data": {
      "text/plain": [
       "200"
      ]
     },
     "execution_count": 30,
     "metadata": {},
     "output_type": "execute_result"
    }
   ],
   "source": [
    "#Number of data points\n",
    "m_gmm = X1_gmm.shape[0]\n",
    "m_gmm"
   ]
  },
  {
   "cell_type": "code",
   "execution_count": 31,
   "metadata": {},
   "outputs": [],
   "source": [
    "#Gaussian function to calculate Normal Probability Density Function \n",
    "def gaussian(mu, cov, x):\n",
    "    \n",
    "    x = np.array(x)\n",
    "    x = np.reshape(x, (1, 2))\n",
    "    g = np.exp((-0.5)*np.dot((x - mu), np.dot(np.linalg.inv(cov), (x - mu).T)))/(2*np.pi*np.sqrt(np.linalg.det(cov)))\n",
    "    \n",
    "    return g"
   ]
  },
  {
   "cell_type": "code",
   "execution_count": 32,
   "metadata": {},
   "outputs": [],
   "source": [
    "epoch = 1000"
   ]
  },
  {
   "cell_type": "code",
   "execution_count": 33,
   "metadata": {},
   "outputs": [
    {
     "name": "stdout",
     "output_type": "stream",
     "text": [
      "[[-858.94285637]]\n",
      "[[-858.94285637]]\n",
      "[[-858.94285637]]\n",
      "[[-858.94285637]]\n",
      "[[-858.94285637]]\n",
      "[[-858.94285637]]\n",
      "[[-858.94285637]]\n",
      "[[-858.94285637]]\n",
      "[[-858.94285637]]\n",
      "[[-858.94285637]]\n"
     ]
    }
   ],
   "source": [
    "#GMM algorithm\n",
    "count = 0\n",
    "while(count<epoch):\n",
    "    \n",
    "    count = count + 1\n",
    "    r = []\n",
    "    \n",
    "    for i in range(m_gmm):\n",
    "        \n",
    "        xi = [X1_gmm[i], X2_gmm[i]]\n",
    "        r0 = (pi[0]*gaussian(mean[0], covariance[0], xi))/(pi[0]*gaussian(mean[0], covariance[0], xi) + \n",
    "                                                            pi[1]*gaussian(mean[1], covariance[1], xi))\n",
    "        r1 = (pi[1]*gaussian(mean[1], covariance[1], xi))/(pi[0]*gaussian(mean[0], covariance[0], xi) + \n",
    "                                                            pi[1]*gaussian(mean[1], covariance[1], xi))\n",
    "        r.append([r0, r1])\n",
    "    \n",
    "    m0 = 0\n",
    "    m1 = 0\n",
    "    for i in range(len(r)):\n",
    "        m0 = m0 + r[i][0]\n",
    "        m1 = m1 + r[i][1]\n",
    "        \n",
    "    pi[0] = m0/(m_gmm)\n",
    "    pi[1] = m1/(m_gmm)\n",
    "    \n",
    "    m00 = 0\n",
    "    m01 = 0\n",
    "    m10 = 0\n",
    "    m11 = 0\n",
    "    for i in range(m_gmm):\n",
    "        m00 = m00 + r[i][0]*X1_gmm[i]\n",
    "        m01 = m01 + r[i][0]*X2_gmm[i]\n",
    "        m10 = m10 + r[i][1]*X1_gmm[i]\n",
    "        m11 = m11 + r[i][1]*X2_gmm[i]\n",
    "    \n",
    "    mean[0][0] = m00/m0\n",
    "    mean[0][1] = m01/m0\n",
    "    mean[1][0] = m10/m1\n",
    "    mean[1][1] = m11/m1\n",
    "    \n",
    "    \n",
    "    cov0 = np.zeros((2, 2))\n",
    "    cov1 = np.zeros((2, 2))\n",
    "    for i in range(m_gmm):\n",
    "        xii = np.array([X1_gmm[i], X2_gmm[i]])\n",
    "        xii = np.reshape(xii, (1, 2))\n",
    "        cov0 = cov0 + r[i][0]*np.dot(xii.T, xii)\n",
    "        cov1 = cov1 + r[i][1]*np.dot(xii.T, xii)\n",
    "        \n",
    "    covariance[0] = cov0/m0\n",
    "    covariance[1] = cov1/m1\n",
    "    \n",
    "    cost_gmm = 0\n",
    "    for i in range(m_gmm):\n",
    "        xiii = [X1_gmm[i], X2_gmm[i]]\n",
    "        cost_gmm = cost_gmm + np.log(pi[0]*gaussian(mean[0], covariance[0], xiii) + \n",
    "                                                            pi[1]*gaussian(mean[1], covariance[1], xiii))\n",
    "    \n",
    "    if count%100 == 0:\n",
    "        print(cost_gmm)"
   ]
  },
  {
   "cell_type": "code",
   "execution_count": 34,
   "metadata": {},
   "outputs": [],
   "source": [
    "#Distribution of data points into two groups\n",
    "x11_pred_gmm = []\n",
    "x12_pred_gmm = []\n",
    "x21_pred_gmm = []\n",
    "x22_pred_gmm = []\n",
    "for i in range(m_gmm):\n",
    "    if r[i][0]>=r[i][1]:\n",
    "        x11_pred_gmm.append(X1_gmm[i])\n",
    "        x12_pred_gmm.append(X2_gmm[i])\n",
    "    elif r[i][0]<r[i][1]:\n",
    "        x21_pred_gmm.append(X1_gmm[i])\n",
    "        x22_pred_gmm.append(X2_gmm[i])"
   ]
  },
  {
   "cell_type": "code",
   "execution_count": 35,
   "metadata": {},
   "outputs": [
    {
     "data": {
      "image/png": "[encoded data removed]",
      "text/plain": [
       "<Figure size 432x432 with 1 Axes>"
      ]
     },
     "metadata": {
      "needs_background": "light"
     },
     "output_type": "display_data"
    }
   ],
   "source": [
    "#Scatter plot for two clusters obtained\n",
    "fig = plt.figure(figsize = (6, 6))\n",
    "plt.scatter(x11_pred_gmm, x12_pred_gmm, s = 10, c = \"blue\")  \n",
    "plt.scatter(x21_pred_gmm, x22_pred_gmm, s = 10, c = \"red\") \n",
    "plt.xlim(-10.0, 7.5)\n",
    "plt.ylim(-10.0, 7.5)\n",
    "plt.ylabel(r'$Result 2$')\n",
    "plt.xlabel(r'$Result 1$')\n",
    "plt.title(\"Data_GMM\") \n",
    "#plt.savefig(\"C:\\Me\\sem6\\cll788\\A4\\Data_GMM.jpeg\")\n",
    "plt.show()"
   ]
  },
  {
   "cell_type": "code",
   "execution_count": null,
   "metadata": {},
   "outputs": [],
   "source": []
  },
  {
   "cell_type": "code",
   "execution_count": null,
   "metadata": {},
   "outputs": [],
   "source": []
  }
 ],
 "metadata": {
  "kernelspec": {
   "display_name": "Python 3",
   "language": "python",
   "name": "python3"
  },
  "language_info": {
   "codemirror_mode": {
    "name": "ipython",
    "version": 3
   },
   "file_extension": ".py",
   "mimetype": "text/x-python",
   "name": "python",
   "nbconvert_exporter": "python",
   "pygments_lexer": "ipython3",
   "version": "3.7.3"
  }
 },
 "nbformat": 4,
 "nbformat_minor": 4
}
